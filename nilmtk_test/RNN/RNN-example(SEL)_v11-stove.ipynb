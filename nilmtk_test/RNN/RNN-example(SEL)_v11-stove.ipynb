{
 "cells": [
  {
   "cell_type": "markdown",
   "metadata": {},
   "source": [
    "# How to use the RNN Autoencoder with NILMTK\n",
    "\n",
    "This is an example on how to train and use the Recurrent Network (RNN) disaggregator on the [REDD](http://redd.csail.mit.edu/) dataset using [NILMTK](https://github.com/nilmtk/NILMTK/).\n",
    "\n",
    "This network was described in the [Neural NILM](https://arxiv.org/pdf/1507.06594.pdf) paper."
   ]
  },
  {
   "cell_type": "markdown",
   "metadata": {},
   "source": [
    "First of all, we need to train the RNNDisaggregator using the train data. For this example, both train and test data are consumption data of the microwave of the first REDD building."
   ]
  },
  {
   "cell_type": "code",
   "execution_count": 2,
   "metadata": {},
   "outputs": [],
   "source": [
    "import warnings; warnings.simplefilter('ignore')\n",
    "\n",
    "from nilmtk import DataSet\n",
    "train = DataSet(r'C:\\Users\\micki\\nilmtk_test\\data\\converted_v14.h5') #new version of train file \n",
    "train.set_window(end=\"2021-10-03\") #because 2021-10-06 starts house1 \n",
    "# from test19 file \n",
    "# TIMESTAMP_COLUMN_NAME = \"timestamp\"\n",
    "# TIMEZONE = \"Europe/London\"\n",
    "# START_DATETIME, END_DATETIME = '2021-09-30', '2021-10-05'\n",
    "train_elec = train.buildings[1].elec"
   ]
  },
  {
   "cell_type": "markdown",
   "metadata": {},
   "source": [
    "Next, we need to define the disaggregator model."
   ]
  },
  {
   "cell_type": "code",
   "execution_count": 3,
   "metadata": {},
   "outputs": [],
   "source": [
    "from rnndisaggregator import RNNDisaggregator\n",
    "rnn = RNNDisaggregator()"
   ]
  },
  {
   "cell_type": "code",
   "execution_count": 4,
   "metadata": {},
   "outputs": [
    {
     "data": {
      "text/plain": [
       "MeterGroup(meters=\n",
       "  ElecMeter(instance=1, building=1, dataset='SEL', site_meter, appliances=[])\n",
       "  ElecMeter(instance=2, building=1, dataset='SEL', appliances=[Appliance(type='fridge', instance=1)])\n",
       "  ElecMeter(instance=3, building=1, dataset='SEL', appliances=[Appliance(type='electric oven', instance=1)])\n",
       "  ElecMeter(instance=4, building=1, dataset='SEL', appliances=[Appliance(type='kettle', instance=1)])\n",
       "  ElecMeter(instance=5, building=1, dataset='SEL', appliances=[Appliance(type='stove', instance=1)])\n",
       ")"
      ]
     },
     "execution_count": 4,
     "metadata": {},
     "output_type": "execute_result"
    }
   ],
   "source": [
    "from nilmtk import DataSet\n",
    "\n",
    "sel = DataSet(r'C:\\Users\\micki\\nilmtk_test\\data\\converted_v14.h5')\n",
    "elec = sel.buildings[1].elec\n",
    "elec"
   ]
  },
  {
   "cell_type": "code",
   "execution_count": 4,
   "metadata": {},
   "outputs": [],
   "source": [
    "#"
   ]
  },
  {
   "cell_type": "markdown",
   "metadata": {},
   "source": [
    "Then train the model. We need to input the train data as well as their sample period. Also, we need to pass the desired number of training epochs. Finally, save the model for later use."
   ]
  },
  {
   "cell_type": "code",
   "execution_count": 5,
   "metadata": {},
   "outputs": [
    {
     "name": "stdout",
     "output_type": "stream",
     "text": [
      "Epoch 1/7\n",
      "1997/1997 [==============================] - 46s 23ms/step - loss: 7.1368e-05\n",
      "Epoch 2/7\n",
      "1997/1997 [==============================] - 44s 22ms/step - loss: 7.0259e-05\n",
      "Epoch 3/7\n",
      "1997/1997 [==============================] - 43s 22ms/step - loss: 7.0278e-05\n",
      "Epoch 4/7\n",
      "1997/1997 [==============================] - 43s 22ms/step - loss: 7.0304e-05\n",
      "Epoch 5/7\n",
      "1997/1997 [==============================] - 43s 21ms/step - loss: 7.0359e-05\n",
      "Epoch 6/7\n",
      "1997/1997 [==============================] - 44s 22ms/step - loss: 7.0271e-05\n",
      "Epoch 7/7\n",
      "1997/1997 [==============================] - 48s 24ms/step - loss: 7.0321e-05\n"
     ]
    }
   ],
   "source": [
    "train_mains = train_elec.mains() # The aggregated meter that provides the input\n",
    "train_meter = train_elec.submeters()['stove'] # The appliance meter that is used as a training target\n",
    "\n",
    "rnn.train(train_mains, train_meter, epochs=7, sample_period=1)\n",
    "rnn.export_model(\"model-sel_v12.h5\")"
   ]
  },
  {
   "cell_type": "markdown",
   "metadata": {},
   "source": [
    "Now that the model is trained, we can use it to disaggregate energy data. Let's test it on the rest of the data from building 1.\n",
    "\n",
    "First we use the model to predict the microwave consumption. The results are saved automatically in a .h5 datastore."
   ]
  },
  {
   "cell_type": "code",
   "execution_count": 6,
   "metadata": {},
   "outputs": [
    {
     "name": "stdout",
     "output_type": "stream",
     "text": [
      "New sensible chunk: 428401\n"
     ]
    }
   ],
   "source": [
    "test = DataSet(r'C:\\Users\\micki\\nilmtk_test\\data\\converted_v14.h5')\n",
    "test.set_window(start=\"2021-09-30\", end=\"2021-10-05\")\n",
    "test_elec = test.buildings[1].elec\n",
    "test_mains = test_elec.mains()\n",
    "\n",
    "disag_filename = 'disag-outSEL_v12.h5' # The filename of the resulting datastore\n",
    "from nilmtk.datastore import HDFDataStore\n",
    "output = HDFDataStore(disag_filename, 'w') # here you change to 'a' or 'w' depending on case \n",
    "\n",
    "# test_mains: The aggregated signal meter\n",
    "# output: The output datastore\n",
    "# train_meter: This is used in order to copy the metadata of the train meter into the datastore\n",
    "rnn.disaggregate(test_mains, output, train_meter, sample_period=1)"
   ]
  }
 ],
 "metadata": {
  "kernelspec": {
   "display_name": "Python 3 (ipykernel)",
   "language": "python",
   "name": "python3"
  },
  "language_info": {
   "codemirror_mode": {
    "name": "ipython",
    "version": 3
   },
   "file_extension": ".py",
   "mimetype": "text/x-python",
   "name": "python",
   "nbconvert_exporter": "python",
   "pygments_lexer": "ipython3",
   "version": "3.8.13"
  }
 },
 "nbformat": 4,
 "nbformat_minor": 2
}
