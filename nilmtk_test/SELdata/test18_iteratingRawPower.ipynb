{
 "cells": [
  {
   "cell_type": "code",
   "execution_count": 2,
   "id": "a51e5a96",
   "metadata": {},
   "outputs": [
    {
     "data": {
      "text/html": [
       "<div>\n",
       "<style scoped>\n",
       "    .dataframe tbody tr th:only-of-type {\n",
       "        vertical-align: middle;\n",
       "    }\n",
       "\n",
       "    .dataframe tbody tr th {\n",
       "        vertical-align: top;\n",
       "    }\n",
       "\n",
       "    .dataframe thead th {\n",
       "        text-align: right;\n",
       "    }\n",
       "</style>\n",
       "<table border=\"1\" class=\"dataframe\">\n",
       "  <thead>\n",
       "    <tr style=\"text-align: right;\">\n",
       "      <th></th>\n",
       "      <th>timestamp</th>\n",
       "      <th>voltage</th>\n",
       "      <th>current</th>\n",
       "      <th>power</th>\n",
       "    </tr>\n",
       "  </thead>\n",
       "  <tbody>\n",
       "    <tr>\n",
       "      <th>0</th>\n",
       "      <td>1.632957e+09</td>\n",
       "      <td>390.645</td>\n",
       "      <td>0.405</td>\n",
       "      <td>158.280</td>\n",
       "    </tr>\n",
       "    <tr>\n",
       "      <th>1</th>\n",
       "      <td>NaN</td>\n",
       "      <td>389.237</td>\n",
       "      <td>0.370</td>\n",
       "      <td>144.087</td>\n",
       "    </tr>\n",
       "    <tr>\n",
       "      <th>2</th>\n",
       "      <td>NaN</td>\n",
       "      <td>386.967</td>\n",
       "      <td>0.308</td>\n",
       "      <td>119.188</td>\n",
       "    </tr>\n",
       "    <tr>\n",
       "      <th>3</th>\n",
       "      <td>NaN</td>\n",
       "      <td>383.830</td>\n",
       "      <td>0.236</td>\n",
       "      <td>90.677</td>\n",
       "    </tr>\n",
       "    <tr>\n",
       "      <th>4</th>\n",
       "      <td>NaN</td>\n",
       "      <td>379.806</td>\n",
       "      <td>0.207</td>\n",
       "      <td>78.630</td>\n",
       "    </tr>\n",
       "    <tr>\n",
       "      <th>...</th>\n",
       "      <td>...</td>\n",
       "      <td>...</td>\n",
       "      <td>...</td>\n",
       "      <td>...</td>\n",
       "    </tr>\n",
       "    <tr>\n",
       "      <th>295</th>\n",
       "      <td>NaN</td>\n",
       "      <td>384.482</td>\n",
       "      <td>1.664</td>\n",
       "      <td>639.682</td>\n",
       "    </tr>\n",
       "    <tr>\n",
       "      <th>296</th>\n",
       "      <td>NaN</td>\n",
       "      <td>386.509</td>\n",
       "      <td>1.349</td>\n",
       "      <td>521.230</td>\n",
       "    </tr>\n",
       "    <tr>\n",
       "      <th>297</th>\n",
       "      <td>NaN</td>\n",
       "      <td>388.188</td>\n",
       "      <td>0.877</td>\n",
       "      <td>340.265</td>\n",
       "    </tr>\n",
       "    <tr>\n",
       "      <th>298</th>\n",
       "      <td>NaN</td>\n",
       "      <td>389.502</td>\n",
       "      <td>0.536</td>\n",
       "      <td>208.723</td>\n",
       "    </tr>\n",
       "    <tr>\n",
       "      <th>299</th>\n",
       "      <td>NaN</td>\n",
       "      <td>390.244</td>\n",
       "      <td>0.374</td>\n",
       "      <td>146.054</td>\n",
       "    </tr>\n",
       "  </tbody>\n",
       "</table>\n",
       "<p>300 rows × 4 columns</p>\n",
       "</div>"
      ],
      "text/plain": [
       "        timestamp  voltage  current    power\n",
       "0    1.632957e+09  390.645    0.405  158.280\n",
       "1             NaN  389.237    0.370  144.087\n",
       "2             NaN  386.967    0.308  119.188\n",
       "3             NaN  383.830    0.236   90.677\n",
       "4             NaN  379.806    0.207   78.630\n",
       "..            ...      ...      ...      ...\n",
       "295           NaN  384.482    1.664  639.682\n",
       "296           NaN  386.509    1.349  521.230\n",
       "297           NaN  388.188    0.877  340.265\n",
       "298           NaN  389.502    0.536  208.723\n",
       "299           NaN  390.244    0.374  146.054\n",
       "\n",
       "[300 rows x 4 columns]"
      ]
     },
     "execution_count": 2,
     "metadata": {},
     "output_type": "execute_result"
    }
   ],
   "source": [
    "import pandas as pd\n",
    "\n",
    "df = pd.read_csv(r'C:\\Users\\micki\\nauka Pytonga\\aMasterPytong\\from_sel\\house0_Data_Folder_Location\\20210930_00h_04h_converted\\20210930_000151.csv',\n",
    "                nrows = 300)\n",
    "\n",
    "df"
   ]
  },
  {
   "cell_type": "code",
   "execution_count": 3,
   "id": "2894a337",
   "metadata": {},
   "outputs": [
    {
     "data": {
      "text/plain": [
       "962.98"
      ]
     },
     "execution_count": 3,
     "metadata": {},
     "output_type": "execute_result"
    }
   ],
   "source": [
    "# finding max value of power in first 300 samlpes\n",
    "\n",
    "x = df['power'].max()\n",
    "x"
   ]
  },
  {
   "cell_type": "code",
   "execution_count": 5,
   "id": "e2fa2edb",
   "metadata": {},
   "outputs": [
    {
     "data": {
      "text/plain": [
       "1632956511"
      ]
     },
     "execution_count": 5,
     "metadata": {},
     "output_type": "execute_result"
    }
   ],
   "source": [
    "y = int(df['timestamp'][0])\n",
    "# y = int(y)\n",
    "y"
   ]
  },
  {
   "cell_type": "code",
   "execution_count": 7,
   "id": "692eb48c",
   "metadata": {},
   "outputs": [
    {
     "data": {
      "text/plain": [
       "[['timestamp', 'W'], [1632956511, 962.98]]"
      ]
     },
     "execution_count": 7,
     "metadata": {},
     "output_type": "execute_result"
    }
   ],
   "source": [
    "data = [['timestamp','W'], [y,x]]\n",
    "data"
   ]
  },
  {
   "cell_type": "code",
   "execution_count": 12,
   "id": "c637e13c",
   "metadata": {},
   "outputs": [
    {
     "data": {
      "text/html": [
       "<div>\n",
       "<style scoped>\n",
       "    .dataframe tbody tr th:only-of-type {\n",
       "        vertical-align: middle;\n",
       "    }\n",
       "\n",
       "    .dataframe tbody tr th {\n",
       "        vertical-align: top;\n",
       "    }\n",
       "\n",
       "    .dataframe thead th {\n",
       "        text-align: right;\n",
       "    }\n",
       "</style>\n",
       "<table border=\"1\" class=\"dataframe\">\n",
       "  <thead>\n",
       "    <tr style=\"text-align: right;\">\n",
       "      <th></th>\n",
       "      <th>timestamp</th>\n",
       "      <th>W</th>\n",
       "    </tr>\n",
       "  </thead>\n",
       "  <tbody>\n",
       "    <tr>\n",
       "      <th>1</th>\n",
       "      <td>1632956511</td>\n",
       "      <td>962.98</td>\n",
       "    </tr>\n",
       "  </tbody>\n",
       "</table>\n",
       "</div>"
      ],
      "text/plain": [
       "0   timestamp       W\n",
       "1  1632956511  962.98"
      ]
     },
     "execution_count": 12,
     "metadata": {},
     "output_type": "execute_result"
    }
   ],
   "source": [
    "df_out = pd.DataFrame(data)\n",
    "df_out.columns = df_out.iloc[0]\n",
    "df_out = df_out.drop(0)\n",
    "df_out"
   ]
  },
  {
   "cell_type": "code",
   "execution_count": 105,
   "id": "25888066",
   "metadata": {},
   "outputs": [
    {
     "name": "stdout",
     "output_type": "stream",
     "text": [
      "\\Users\\micki\\nauka Pytonga\\aMasterPytong\\from_sel\\mini_test\\20210930_000151.csv\n",
      "\\Users\\micki\\nauka Pytonga\\aMasterPytong\\from_sel\\mini_test\\20210930_000251.csv\n",
      "\\Users\\micki\\nauka Pytonga\\aMasterPytong\\from_sel\\mini_test\\20210930_000350.csv\n",
      "\\Users\\micki\\nauka Pytonga\\aMasterPytong\\from_sel\\mini_test\\20210930_000450.csv\n",
      "\\Users\\micki\\nauka Pytonga\\aMasterPytong\\from_sel\\mini_test\\20210930_000550.csv\n",
      "\\Users\\micki\\nauka Pytonga\\aMasterPytong\\from_sel\\mini_test\\20210930_000650.csv\n",
      "\\Users\\micki\\nauka Pytonga\\aMasterPytong\\from_sel\\mini_test\\20210930_000750.csv\n",
      "\\Users\\micki\\nauka Pytonga\\aMasterPytong\\from_sel\\mini_test\\20210930_000850.csv\n",
      "\\Users\\micki\\nauka Pytonga\\aMasterPytong\\from_sel\\mini_test\\20210930_000950.csv\n",
      "\\Users\\micki\\nauka Pytonga\\aMasterPytong\\from_sel\\mini_test\\20210930_001050.csv\n",
      "\\Users\\micki\\nauka Pytonga\\aMasterPytong\\from_sel\\mini_test\\20210930_001150.csv\n",
      "\\Users\\micki\\nauka Pytonga\\aMasterPytong\\from_sel\\mini_test\\20210930_001250.csv\n",
      "\\Users\\micki\\nauka Pytonga\\aMasterPytong\\from_sel\\mini_test\\20210930_001350.csv\n"
     ]
    }
   ],
   "source": [
    "import os\n",
    "rootdir = '\\\\Users\\\\micki\\\\nauka Pytonga\\\\aMasterPytong\\\\from_sel\\\\mini_test\\\\'\n",
    "\n",
    "for subdir, dirs, files in os.walk(rootdir):\n",
    "    for file in files:\n",
    "        print(os.path.join(subdir, file))"
   ]
  },
  {
   "cell_type": "code",
   "execution_count": 48,
   "id": "40eae15b",
   "metadata": {},
   "outputs": [
    {
     "data": {
      "text/plain": [
       "[]"
      ]
     },
     "execution_count": 48,
     "metadata": {},
     "output_type": "execute_result"
    }
   ],
   "source": [
    "dirs"
   ]
  },
  {
   "cell_type": "code",
   "execution_count": 94,
   "id": "0b4cc0f0",
   "metadata": {},
   "outputs": [
    {
     "data": {
      "text/plain": [
       "13"
      ]
     },
     "execution_count": 94,
     "metadata": {},
     "output_type": "execute_result"
    }
   ],
   "source": [
    "files"
   ]
  },
  {
   "cell_type": "code",
   "execution_count": 90,
   "id": "40a3c9eb",
   "metadata": {},
   "outputs": [],
   "source": [
    "df = pd.read_csv(os.path.join(subdir, files[4]), nrows = 300)\n",
    "x = df['power'].max()\n",
    "y = int(df['timestamp'][0])\n"
   ]
  },
  {
   "cell_type": "code",
   "execution_count": 91,
   "id": "5c3ed255",
   "metadata": {},
   "outputs": [
    {
     "data": {
      "text/plain": [
       "1632956750"
      ]
     },
     "execution_count": 91,
     "metadata": {},
     "output_type": "execute_result"
    }
   ],
   "source": [
    "y"
   ]
  },
  {
   "cell_type": "code",
   "execution_count": 111,
   "id": "6febeebe",
   "metadata": {},
   "outputs": [],
   "source": [
    "import csv\n",
    "\n",
    "# open the file in the write mode\n",
    "g = open('\\\\Users\\\\micki\\\\nauka Pytonga\\\\aMasterPytong\\\\from_sel\\\\minuteRawDataHouse0.csv', 'w', newline='')\n",
    "\n",
    "# create the csv writer\n",
    "writer = csv.writer(g)\n",
    "\n",
    "# write a row to the csv file\n",
    "writer.writerow(['timestamp','W'])\n",
    "# writer.writerow([1632956511, 962.98])\n",
    "# writer.writerow([y,x])\n",
    "\n",
    "# close the file\n",
    "g.close()\n"
   ]
  },
  {
   "cell_type": "code",
   "execution_count": 92,
   "id": "61971a6d",
   "metadata": {},
   "outputs": [],
   "source": [
    "import csv\n",
    "\n",
    "# open the file in the write mode\n",
    "g = open('\\\\Users\\\\micki\\\\nauka Pytonga\\\\aMasterPytong\\\\from_sel\\\\minuteRawDataHouse0.csv', 'a', newline='')\n",
    "\n",
    "# create the csv writer\n",
    "writer = csv.writer(g)\n",
    "\n",
    "# append a row to the csv file\n",
    "writer.writerow([y,x])\n",
    "\n",
    "# close the file\n",
    "g.close()"
   ]
  },
  {
   "cell_type": "code",
   "execution_count": 103,
   "id": "67c2682c",
   "metadata": {},
   "outputs": [],
   "source": [
    "import csv\n",
    "\n",
    "# open the file in the write mode\n",
    "g = open('\\\\Users\\\\micki\\\\nauka Pytonga\\\\aMasterPytong\\\\from_sel\\\\minuteRawDataHouse0.csv', 'a', newline='')\n",
    "\n",
    "# create the csv writer\n",
    "writer = csv.writer(g)\n",
    "\n",
    "for i in files:\n",
    "    df = pd.read_csv(os.path.join(subdir, i), nrows = 300)\n",
    "    x = df['power'].max()\n",
    "    y = int(df['timestamp'][0])\n",
    "    # append a row to the csv file\n",
    "    writer.writerow([y,x])\n",
    "\n",
    "# close the file\n",
    "g.close()"
   ]
  },
  {
   "cell_type": "code",
   "execution_count": 109,
   "id": "c74a78f6",
   "metadata": {},
   "outputs": [],
   "source": [
    "import os\n",
    "\n",
    "rootdir = '\\\\Users\\\\micki\\\\nauka Pytonga\\\\aMasterPytong\\\\from_sel\\\\test_nilm_folder\\\\'\n",
    "\n",
    "import csv\n",
    "\n",
    "# open the file in the write mode\n",
    "g = open('\\\\Users\\\\micki\\\\nauka Pytonga\\\\aMasterPytong\\\\from_sel\\\\minuteRawDataHouse0.csv', 'a', newline='')\n",
    "\n",
    "# create the csv writer\n",
    "writer = csv.writer(g)\n",
    "for subdir, dirs, files in os.walk(rootdir):\n",
    "    for i in files:\n",
    "        df = pd.read_csv(os.path.join(subdir, i), nrows = 300)\n",
    "        x = df['power'].max()\n",
    "        y = int(df['timestamp'][0])\n",
    "        # append a row to the csv file\n",
    "        writer.writerow([y,x])\n",
    "\n",
    "# close the file\n",
    "g.close()"
   ]
  },
  {
   "cell_type": "code",
   "execution_count": 110,
   "id": "e6b9f6da",
   "metadata": {},
   "outputs": [
    {
     "data": {
      "text/plain": [
       "['20210930_080048.csv',\n",
       " '20210930_080148.csv',\n",
       " '20210930_080248.csv',\n",
       " '20210930_080348.csv',\n",
       " '20210930_080448.csv',\n",
       " '20210930_080548.csv',\n",
       " '20210930_080648.csv',\n",
       " '20210930_080748.csv',\n",
       " '20210930_080848.csv',\n",
       " '20210930_080948.csv',\n",
       " '20210930_081048.csv',\n",
       " '20210930_081148.csv',\n",
       " '20210930_081248.csv',\n",
       " '20210930_081348.csv',\n",
       " '20210930_081448.csv',\n",
       " '20210930_081548.csv',\n",
       " '20210930_081648.csv',\n",
       " '20210930_081748.csv',\n",
       " '20210930_081848.csv',\n",
       " '20210930_081948.csv',\n",
       " '20210930_082048.csv',\n",
       " '20210930_082148.csv',\n",
       " '20210930_082248.csv',\n",
       " '20210930_082348.csv',\n",
       " '20210930_082448.csv',\n",
       " '20210930_082548.csv',\n",
       " '20210930_082648.csv',\n",
       " '20210930_082748.csv',\n",
       " '20210930_082848.csv',\n",
       " '20210930_082948.csv',\n",
       " '20210930_083048.csv',\n",
       " '20210930_083148.csv',\n",
       " '20210930_083248.csv',\n",
       " '20210930_083348.csv',\n",
       " '20210930_083448.csv',\n",
       " '20210930_083548.csv',\n",
       " '20210930_083648.csv',\n",
       " '20210930_083748.csv',\n",
       " '20210930_083848.csv',\n",
       " '20210930_083948.csv',\n",
       " '20210930_084048.csv',\n",
       " '20210930_084148.csv',\n",
       " '20210930_084248.csv',\n",
       " '20210930_084348.csv',\n",
       " '20210930_084448.csv',\n",
       " '20210930_084548.csv',\n",
       " '20210930_084648.csv',\n",
       " '20210930_084748.csv',\n",
       " '20210930_084848.csv',\n",
       " '20210930_084948.csv',\n",
       " '20210930_085048.csv',\n",
       " '20210930_085148.csv',\n",
       " '20210930_085248.csv',\n",
       " '20210930_085348.csv',\n",
       " '20210930_085448.csv',\n",
       " '20210930_085548.csv',\n",
       " '20210930_085648.csv',\n",
       " '20210930_085748.csv',\n",
       " '20210930_085848.csv',\n",
       " '20210930_085948.csv',\n",
       " '20210930_090048.csv',\n",
       " '20210930_090148.csv',\n",
       " '20210930_090248.csv',\n",
       " '20210930_090348.csv',\n",
       " '20210930_090448.csv',\n",
       " '20210930_090548.csv',\n",
       " '20210930_090648.csv',\n",
       " '20210930_090748.csv',\n",
       " '20210930_090848.csv',\n",
       " '20210930_090948.csv',\n",
       " '20210930_091048.csv',\n",
       " '20210930_091148.csv',\n",
       " '20210930_091248.csv',\n",
       " '20210930_091348.csv',\n",
       " '20210930_091448.csv',\n",
       " '20210930_091548.csv',\n",
       " '20210930_091648.csv',\n",
       " '20210930_091748.csv',\n",
       " '20210930_091848.csv',\n",
       " '20210930_091948.csv',\n",
       " '20210930_092048.csv',\n",
       " '20210930_092148.csv',\n",
       " '20210930_092248.csv',\n",
       " '20210930_092348.csv',\n",
       " '20210930_092448.csv',\n",
       " '20210930_092548.csv',\n",
       " '20210930_092648.csv',\n",
       " '20210930_092748.csv',\n",
       " '20210930_092848.csv',\n",
       " '20210930_092948.csv',\n",
       " '20210930_093048.csv',\n",
       " '20210930_093147.csv',\n",
       " '20210930_093247.csv',\n",
       " '20210930_093347.csv',\n",
       " '20210930_093447.csv',\n",
       " '20210930_093547.csv',\n",
       " '20210930_093647.csv',\n",
       " '20210930_093747.csv',\n",
       " '20210930_093847.csv',\n",
       " '20210930_093947.csv',\n",
       " '20210930_094047.csv',\n",
       " '20210930_094147.csv',\n",
       " '20210930_094247.csv',\n",
       " '20210930_094347.csv',\n",
       " '20210930_094447.csv',\n",
       " '20210930_094547.csv',\n",
       " '20210930_094647.csv',\n",
       " '20210930_094747.csv',\n",
       " '20210930_094847.csv',\n",
       " '20210930_094947.csv',\n",
       " '20210930_095047.csv',\n",
       " '20210930_095147.csv',\n",
       " '20210930_095247.csv',\n",
       " '20210930_095347.csv',\n",
       " '20210930_095447.csv',\n",
       " '20210930_095547.csv',\n",
       " '20210930_095647.csv',\n",
       " '20210930_095747.csv',\n",
       " '20210930_095847.csv',\n",
       " '20210930_095947.csv',\n",
       " '20210930_100047.csv',\n",
       " '20210930_100147.csv',\n",
       " '20210930_100247.csv',\n",
       " '20210930_100347.csv',\n",
       " '20210930_100447.csv',\n",
       " '20210930_100547.csv',\n",
       " '20210930_100647.csv',\n",
       " '20210930_100747.csv',\n",
       " '20210930_100847.csv',\n",
       " '20210930_100947.csv',\n",
       " '20210930_101047.csv',\n",
       " '20210930_101147.csv',\n",
       " '20210930_101247.csv',\n",
       " '20210930_101347.csv',\n",
       " '20210930_101447.csv',\n",
       " '20210930_101547.csv',\n",
       " '20210930_101647.csv',\n",
       " '20210930_101747.csv',\n",
       " '20210930_101847.csv',\n",
       " '20210930_101947.csv',\n",
       " '20210930_102047.csv',\n",
       " '20210930_102147.csv',\n",
       " '20210930_102247.csv',\n",
       " '20210930_102347.csv',\n",
       " '20210930_102447.csv',\n",
       " '20210930_102547.csv',\n",
       " '20210930_102647.csv',\n",
       " '20210930_102747.csv',\n",
       " '20210930_102847.csv',\n",
       " '20210930_102947.csv',\n",
       " '20210930_103047.csv',\n",
       " '20210930_103147.csv',\n",
       " '20210930_103247.csv',\n",
       " '20210930_103347.csv',\n",
       " '20210930_103447.csv',\n",
       " '20210930_103547.csv',\n",
       " '20210930_103647.csv',\n",
       " '20210930_103747.csv',\n",
       " '20210930_103847.csv',\n",
       " '20210930_103947.csv',\n",
       " '20210930_104047.csv',\n",
       " '20210930_104147.csv',\n",
       " '20210930_104247.csv',\n",
       " '20210930_104347.csv',\n",
       " '20210930_104447.csv',\n",
       " '20210930_104547.csv',\n",
       " '20210930_104647.csv',\n",
       " '20210930_104747.csv',\n",
       " '20210930_104847.csv',\n",
       " '20210930_104947.csv',\n",
       " '20210930_105047.csv',\n",
       " '20210930_105147.csv',\n",
       " '20210930_105247.csv',\n",
       " '20210930_105347.csv',\n",
       " '20210930_105447.csv',\n",
       " '20210930_105547.csv',\n",
       " '20210930_105647.csv',\n",
       " '20210930_105747.csv',\n",
       " '20210930_105847.csv',\n",
       " '20210930_105947.csv',\n",
       " '20210930_110047.csv',\n",
       " '20210930_110147.csv',\n",
       " '20210930_110247.csv',\n",
       " '20210930_110347.csv',\n",
       " '20210930_110447.csv',\n",
       " '20210930_110547.csv',\n",
       " '20210930_110647.csv',\n",
       " '20210930_110747.csv',\n",
       " '20210930_110847.csv',\n",
       " '20210930_110947.csv',\n",
       " '20210930_111047.csv',\n",
       " '20210930_111147.csv',\n",
       " '20210930_111247.csv',\n",
       " '20210930_111347.csv',\n",
       " '20210930_111447.csv',\n",
       " '20210930_111547.csv',\n",
       " '20210930_111647.csv',\n",
       " '20210930_111747.csv',\n",
       " '20210930_111847.csv',\n",
       " '20210930_111947.csv',\n",
       " '20210930_112047.csv',\n",
       " '20210930_112147.csv',\n",
       " '20210930_112247.csv',\n",
       " '20210930_112347.csv',\n",
       " '20210930_112447.csv',\n",
       " '20210930_112547.csv',\n",
       " '20210930_112647.csv',\n",
       " '20210930_112747.csv',\n",
       " '20210930_112847.csv',\n",
       " '20210930_112947.csv',\n",
       " '20210930_113047.csv',\n",
       " '20210930_113147.csv',\n",
       " '20210930_113247.csv',\n",
       " '20210930_113347.csv',\n",
       " '20210930_113447.csv',\n",
       " '20210930_113547.csv',\n",
       " '20210930_113647.csv',\n",
       " '20210930_113747.csv',\n",
       " '20210930_113847.csv',\n",
       " '20210930_113947.csv',\n",
       " '20210930_114047.csv',\n",
       " '20210930_114147.csv',\n",
       " '20210930_114247.csv',\n",
       " '20210930_114347.csv',\n",
       " '20210930_114447.csv',\n",
       " '20210930_114547.csv',\n",
       " '20210930_114647.csv',\n",
       " '20210930_114747.csv',\n",
       " '20210930_114847.csv',\n",
       " '20210930_114947.csv',\n",
       " '20210930_115047.csv',\n",
       " '20210930_115147.csv',\n",
       " '20210930_115247.csv',\n",
       " '20210930_115347.csv',\n",
       " '20210930_115447.csv',\n",
       " '20210930_115547.csv',\n",
       " '20210930_115647.csv',\n",
       " '20210930_115747.csv',\n",
       " '20210930_115847.csv',\n",
       " '20210930_115947.csv']"
      ]
     },
     "execution_count": 110,
     "metadata": {},
     "output_type": "execute_result"
    }
   ],
   "source": [
    "files"
   ]
  },
  {
   "cell_type": "code",
   "execution_count": 112,
   "id": "39babd3d",
   "metadata": {},
   "outputs": [],
   "source": [
    "import os\n",
    "\n",
    "rootdir = '\\\\Users\\\\micki\\\\nauka Pytonga\\\\aMasterPytong\\\\from_sel\\\\house0_Data_Folder_Location\\\\'\n",
    "\n",
    "import csv\n",
    "\n",
    "# open the file in the write mode\n",
    "g = open('\\\\Users\\\\micki\\\\nauka Pytonga\\\\aMasterPytong\\\\from_sel\\\\minuteRawDataHouse0.csv', 'a', newline='')\n",
    "\n",
    "# create the csv writer\n",
    "writer = csv.writer(g)\n",
    "for subdir, dirs, files in os.walk(rootdir):\n",
    "    for i in files:\n",
    "        df = pd.read_csv(os.path.join(subdir, i), nrows = 300)\n",
    "        x = df['power'].max()\n",
    "        y = int(df['timestamp'][0])\n",
    "        # append a row to the csv file\n",
    "        writer.writerow([y,x])\n",
    "\n",
    "# close the file\n",
    "g.close()"
   ]
  },
  {
   "cell_type": "code",
   "execution_count": 113,
   "id": "468e70c2",
   "metadata": {},
   "outputs": [
    {
     "data": {
      "text/plain": [
       "86400"
      ]
     },
     "execution_count": 113,
     "metadata": {},
     "output_type": "execute_result"
    }
   ],
   "source": [
    "60*60*24"
   ]
  },
  {
   "cell_type": "code",
   "execution_count": 115,
   "id": "c5bb5d9b",
   "metadata": {},
   "outputs": [
    {
     "data": {
      "text/plain": [
       "5.0"
      ]
     },
     "execution_count": 115,
     "metadata": {},
     "output_type": "execute_result"
    }
   ],
   "source": [
    "7200/60/24"
   ]
  },
  {
   "cell_type": "code",
   "execution_count": null,
   "id": "9b84cebb",
   "metadata": {},
   "outputs": [],
   "source": []
  }
 ],
 "metadata": {
  "kernelspec": {
   "display_name": "Python 3 (ipykernel)",
   "language": "python",
   "name": "python3"
  },
  "language_info": {
   "codemirror_mode": {
    "name": "ipython",
    "version": 3
   },
   "file_extension": ".py",
   "mimetype": "text/x-python",
   "name": "python",
   "nbconvert_exporter": "python",
   "pygments_lexer": "ipython3",
   "version": "3.8.13"
  }
 },
 "nbformat": 4,
 "nbformat_minor": 5
}
