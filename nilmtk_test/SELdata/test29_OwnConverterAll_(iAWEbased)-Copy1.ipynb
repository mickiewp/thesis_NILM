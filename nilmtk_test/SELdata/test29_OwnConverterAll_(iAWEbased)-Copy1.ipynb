{
 "cells": [
  {
   "cell_type": "code",
   "execution_count": 1,
   "id": "85892c00",
   "metadata": {},
   "outputs": [],
   "source": [
    "import pandas as pd\n",
    "import numpy as np\n",
    "from os.path import join\n",
    "from nilmtk.datastore import Key\n",
    "from nilmtk.measurement import LEVEL_NAMES\n",
    "from nilmtk.utils import check_directory_exists, get_datastore, get_module_directory\n",
    "from nilm_metadata import convert_yaml_to_hdf5\n",
    "from copy import deepcopy\n"
   ]
  },
  {
   "cell_type": "code",
   "execution_count": 2,
   "id": "29994d7d",
   "metadata": {},
   "outputs": [],
   "source": [
    "def reindex_fill_na(df, idx):\n",
    "    df_copy = deepcopy(df)\n",
    "    df_copy = df_copy.reindex(idx)\n",
    "\n",
    "    power_columns = [\n",
    "        x for x in df.columns if x[0] in ['power']]\n",
    "    non_power_columns = [x for x in df.columns if x not in power_columns]\n",
    "\n",
    "    for power in power_columns:\n",
    "        df_copy[power].fillna(0, inplace=True)\n",
    "    for measurement in non_power_columns:\n",
    "        df_copy[measurement].fillna(df[measurement].median(), inplace=True)\n",
    "\n",
    "    return df_copy\n"
   ]
  },
  {
   "cell_type": "code",
   "execution_count": 3,
   "id": "bbaf50fc",
   "metadata": {},
   "outputs": [],
   "source": [
    "column_mapping = {\n",
    "    'frequency': ('frequency', \"\"),\n",
    "    'voltage': ('voltage', \"\"),\n",
    "    'W': ('power', 'active'),\n",
    "    'energy': ('energy', 'apparent'),\n",
    "    'A': ('current', ''),\n",
    "    'reactive_power': ('power', 'reactive'),\n",
    "    'apparent_power': ('power', 'apparent'),\n",
    "    'power_factor': ('pf', ''),\n",
    "    'PF': ('pf', ''),\n",
    "    'phase_angle': ('phi', ''),\n",
    "    'VA': ('power', 'apparent'),\n",
    "    'VAR': ('power', 'reactive'),\n",
    "    'VLN': ('voltage', \"\"),\n",
    "    'V': ('voltage', \"\"),\n",
    "    'f': ('frequency', \"\")\n",
    "}"
   ]
  },
  {
   "cell_type": "code",
   "execution_count": 4,
   "id": "1e0c7771",
   "metadata": {},
   "outputs": [],
   "source": [
    "TIMESTAMP_COLUMN_NAME = \"timestamp\"\n",
    "TIMEZONE = \"Europe/London\"\n",
    "START_DATETIME, END_DATETIME = '2021-09-30', '2021-10-05'\n",
    "FREQ = \"1T\""
   ]
  },
  {
   "cell_type": "code",
   "execution_count": 5,
   "id": "ed16e9bb",
   "metadata": {},
   "outputs": [],
   "source": [
    "def convert_iawe(iawe_path, output_filename, format=\"HDF\"):\n",
    "    \"\"\"\n",
    "    Parameters\n",
    "    ----------\n",
    "    iawe_path : str\n",
    "        The root path of the iawe dataset.\n",
    "    output_filename : str\n",
    "        The destination filename (including path and suffix).\n",
    "    \"\"\"\n",
    "\n",
    "    check_directory_exists(iawe_path)\n",
    "    idx = pd.date_range(start=START_DATETIME, end=END_DATETIME, freq=FREQ)\n",
    "    idx = idx.tz_localize('GMT').tz_convert(TIMEZONE)\n",
    "\n",
    "    # Open data store\n",
    "    store = get_datastore(output_filename, format, mode='w')\n",
    "    electricity_path = join(iawe_path, \"electricity\")\n",
    "\n",
    "    # Mains data\n",
    "    for chan in range(1, 6): #change range according to the number of mains plus devices \n",
    "        key = Key(building=1, meter=chan)\n",
    "        filename = join(electricity_path, \"%d.csv\" % chan)\n",
    "        print('Loading ', chan)\n",
    "        df = pd.read_csv(filename, dtype=np.float64, na_values='\\\\N')\n",
    "        df.drop_duplicates(subset=[\"timestamp\"], inplace=True)\n",
    "        df.index = pd.to_datetime(df.timestamp.values, unit='s', utc=True)\n",
    "        df = df.tz_convert(TIMEZONE)\n",
    "        df = df.drop(TIMESTAMP_COLUMN_NAME, 1)\n",
    "        df.columns = pd.MultiIndex.from_tuples(\n",
    "            [column_mapping[x] for x in df.columns],\n",
    "            names=LEVEL_NAMES\n",
    "        )\n",
    "        df = df.apply(pd.to_numeric, errors='ignore')\n",
    "        df = df.dropna()\n",
    "        df = df.astype(np.float32)\n",
    "        df = df.sort_index()\n",
    "        df = df.resample(\"1T\").mean()\n",
    "        df = reindex_fill_na(df, idx)\n",
    "        assert df.isnull().sum().sum() == 0\n",
    "        store.put(str(key), df)\n",
    "    store.close()\n",
    "    \n",
    "   # metadata_dir = join(get_module_directory(), 'dataset_converters', 'iawe', 'metadata')\n",
    "    metadata_dir = (r'C:\\Users\\micki\\nilmtk_test\\SELdata\\metadata')\n",
    "    convert_yaml_to_hdf5(metadata_dir, output_filename)\n",
    "\n",
    "    print(\"Done converting iAWE to HDF5!\")"
   ]
  },
  {
   "cell_type": "code",
   "execution_count": 6,
   "id": "a07e50c3",
   "metadata": {
    "scrolled": true
   },
   "outputs": [
    {
     "name": "stdout",
     "output_type": "stream",
     "text": [
      "Loading  1\n",
      "Loading  2\n",
      "Loading  3\n",
      "Loading  4\n",
      "Loading  5\n",
      "Done converting YAML metadata to HDF5!\n",
      "Done converting iAWE to HDF5!\n"
     ]
    }
   ],
   "source": [
    "convert_iawe('C:\\\\Users\\\\micki\\\\nilmtk_test\\\\SELdata\\\\house_1', \"C:\\\\Users\\\\micki\\\\nilmtk_test\\\\converted_v14.h5\")"
   ]
  },
  {
   "cell_type": "code",
   "execution_count": 7,
   "id": "973ddb0f",
   "metadata": {},
   "outputs": [],
   "source": [
    "# # from my NILM experiments with iAWE dataset \n",
    "\n",
    "# from nilmtk import DataSet\n",
    "\n",
    "# iawe = DataSet(r'C:\\Users\\micki\\nilmtk_test\\converted20211007_001337.h5')\n",
    "# elec = iawe.buildings[1].elec\n",
    "# elec"
   ]
  },
  {
   "cell_type": "code",
   "execution_count": 8,
   "id": "147bda01",
   "metadata": {},
   "outputs": [
    {
     "data": {
      "text/html": [
       "<div>\n",
       "<style scoped>\n",
       "    .dataframe tbody tr th:only-of-type {\n",
       "        vertical-align: middle;\n",
       "    }\n",
       "\n",
       "    .dataframe tbody tr th {\n",
       "        vertical-align: top;\n",
       "    }\n",
       "\n",
       "    .dataframe thead tr th {\n",
       "        text-align: left;\n",
       "    }\n",
       "</style>\n",
       "<table border=\"1\" class=\"dataframe\">\n",
       "  <thead>\n",
       "    <tr>\n",
       "      <th>physical_quantity</th>\n",
       "      <th>power</th>\n",
       "    </tr>\n",
       "    <tr>\n",
       "      <th>type</th>\n",
       "      <th>active</th>\n",
       "    </tr>\n",
       "  </thead>\n",
       "  <tbody>\n",
       "    <tr>\n",
       "      <th>2021-09-30 01:00:00+01:00</th>\n",
       "      <td>5.204736</td>\n",
       "    </tr>\n",
       "    <tr>\n",
       "      <th>2021-09-30 01:01:00+01:00</th>\n",
       "      <td>5.291828</td>\n",
       "    </tr>\n",
       "    <tr>\n",
       "      <th>2021-09-30 01:02:00+01:00</th>\n",
       "      <td>0.370212</td>\n",
       "    </tr>\n",
       "    <tr>\n",
       "      <th>2021-09-30 01:03:00+01:00</th>\n",
       "      <td>0.110858</td>\n",
       "    </tr>\n",
       "    <tr>\n",
       "      <th>2021-09-30 01:04:00+01:00</th>\n",
       "      <td>0.381582</td>\n",
       "    </tr>\n",
       "    <tr>\n",
       "      <th>...</th>\n",
       "      <td>...</td>\n",
       "    </tr>\n",
       "    <tr>\n",
       "      <th>2021-10-05 00:56:00+01:00</th>\n",
       "      <td>0.000000</td>\n",
       "    </tr>\n",
       "    <tr>\n",
       "      <th>2021-10-05 00:57:00+01:00</th>\n",
       "      <td>0.000000</td>\n",
       "    </tr>\n",
       "    <tr>\n",
       "      <th>2021-10-05 00:58:00+01:00</th>\n",
       "      <td>0.000000</td>\n",
       "    </tr>\n",
       "    <tr>\n",
       "      <th>2021-10-05 00:59:00+01:00</th>\n",
       "      <td>0.000000</td>\n",
       "    </tr>\n",
       "    <tr>\n",
       "      <th>2021-10-05 01:00:00+01:00</th>\n",
       "      <td>0.000000</td>\n",
       "    </tr>\n",
       "  </tbody>\n",
       "</table>\n",
       "<p>7201 rows × 1 columns</p>\n",
       "</div>"
      ],
      "text/plain": [
       "physical_quantity             power\n",
       "type                         active\n",
       "2021-09-30 01:00:00+01:00  5.204736\n",
       "2021-09-30 01:01:00+01:00  5.291828\n",
       "2021-09-30 01:02:00+01:00  0.370212\n",
       "2021-09-30 01:03:00+01:00  0.110858\n",
       "2021-09-30 01:04:00+01:00  0.381582\n",
       "...                             ...\n",
       "2021-10-05 00:56:00+01:00  0.000000\n",
       "2021-10-05 00:57:00+01:00  0.000000\n",
       "2021-10-05 00:58:00+01:00  0.000000\n",
       "2021-10-05 00:59:00+01:00  0.000000\n",
       "2021-10-05 01:00:00+01:00  0.000000\n",
       "\n",
       "[7201 rows x 1 columns]"
      ]
     },
     "execution_count": 8,
     "metadata": {},
     "output_type": "execute_result"
    }
   ],
   "source": [
    "import pandas as pd \n",
    "import h5py\n",
    "iawe = pd.HDFStore(r'C:\\Users\\micki\\nilmtk_test\\converted_v14.h5')\n",
    "iawe.keys()\n",
    "iawe_df = iawe['/building1/elec/meter1']\n",
    "iawe_df"
   ]
  },
  {
   "cell_type": "code",
   "execution_count": 18,
   "id": "dedfa6f7",
   "metadata": {},
   "outputs": [
    {
     "data": {
      "text/plain": [
       "['/building1/elec/meter1',\n",
       " '/building1/elec/meter2',\n",
       " '/building1/elec/meter3',\n",
       " '/building1/elec/meter4',\n",
       " '/building1/elec/meter5']"
      ]
     },
     "execution_count": 18,
     "metadata": {},
     "output_type": "execute_result"
    }
   ],
   "source": [
    "iawe.keys()"
   ]
  },
  {
   "cell_type": "code",
   "execution_count": 19,
   "id": "940bcafa",
   "metadata": {},
   "outputs": [],
   "source": [
    "import h5py\n",
    "import numpy as np\n",
    "import pandas as pd\n",
    "\n",
    "# dataset = h5py.File(r'C:\\Users\\micki\\nilmtk_test\\data\\iawe.h5', 'r')\n",
    "dataset = h5py.File(r'C:\\Users\\micki\\nilmtk_test\\converted_v12.h5', 'r')\n"
   ]
  },
  {
   "cell_type": "code",
   "execution_count": 20,
   "id": "591ecba7",
   "metadata": {},
   "outputs": [
    {
     "data": {
      "text/plain": [
       "<KeysViewHDF5 ['building1']>"
      ]
     },
     "execution_count": 20,
     "metadata": {},
     "output_type": "execute_result"
    }
   ],
   "source": [
    "dataset.keys()"
   ]
  },
  {
   "cell_type": "code",
   "execution_count": 21,
   "id": "2df97644",
   "metadata": {},
   "outputs": [
    {
     "data": {
      "text/plain": [
       "<KeysViewHDF5 ['elec']>"
      ]
     },
     "execution_count": 21,
     "metadata": {},
     "output_type": "execute_result"
    }
   ],
   "source": [
    "building1 = dataset['building1']\n",
    "building1.keys()"
   ]
  },
  {
   "cell_type": "code",
   "execution_count": 22,
   "id": "2717d03b",
   "metadata": {},
   "outputs": [
    {
     "data": {
      "text/plain": [
       "<KeysViewHDF5 ['meter1', 'meter2', 'meter3', 'meter4', 'meter5']>"
      ]
     },
     "execution_count": 22,
     "metadata": {},
     "output_type": "execute_result"
    }
   ],
   "source": [
    "dataset['building1']['elec'].keys()"
   ]
  },
  {
   "cell_type": "code",
   "execution_count": 23,
   "id": "c078ee8f",
   "metadata": {},
   "outputs": [
    {
     "data": {
      "text/plain": [
       "<KeysViewHDF5 ['_i_table', 'table']>"
      ]
     },
     "execution_count": 23,
     "metadata": {},
     "output_type": "execute_result"
    }
   ],
   "source": [
    "dataset['building1']['elec']['meter2'].keys()"
   ]
  },
  {
   "cell_type": "code",
   "execution_count": 2,
   "id": "0000515c",
   "metadata": {},
   "outputs": [
    {
     "data": {
      "text/plain": [
       "MeterGroup(meters=\n",
       "  ElecMeter(instance=1, building=1, dataset='SEL', site_meter, appliances=[])\n",
       "  ElecMeter(instance=2, building=1, dataset='SEL', appliances=[Appliance(type='fridge', instance=1)])\n",
       "  ElecMeter(instance=3, building=1, dataset='SEL', appliances=[Appliance(type='electric oven', instance=1)])\n",
       "  ElecMeter(instance=4, building=1, dataset='SEL', appliances=[Appliance(type='kettle', instance=1)])\n",
       "  ElecMeter(instance=5, building=1, dataset='SEL', appliances=[Appliance(type='stove', instance=1)])\n",
       ")"
      ]
     },
     "execution_count": 2,
     "metadata": {},
     "output_type": "execute_result"
    }
   ],
   "source": [
    "from nilmtk import DataSet\n",
    "\n",
    "sel = DataSet(r'C:\\Users\\micki\\nilmtk_test\\converted_v12.h5')\n",
    "elec = sel.buildings[1].elec\n",
    "elec\n"
   ]
  },
  {
   "cell_type": "code",
   "execution_count": null,
   "id": "e1a3a837",
   "metadata": {},
   "outputs": [],
   "source": []
  }
 ],
 "metadata": {
  "kernelspec": {
   "display_name": "Python 3 (ipykernel)",
   "language": "python",
   "name": "python3"
  },
  "language_info": {
   "codemirror_mode": {
    "name": "ipython",
    "version": 3
   },
   "file_extension": ".py",
   "mimetype": "text/x-python",
   "name": "python",
   "nbconvert_exporter": "python",
   "pygments_lexer": "ipython3",
   "version": "3.8.13"
  }
 },
 "nbformat": 4,
 "nbformat_minor": 5
}
